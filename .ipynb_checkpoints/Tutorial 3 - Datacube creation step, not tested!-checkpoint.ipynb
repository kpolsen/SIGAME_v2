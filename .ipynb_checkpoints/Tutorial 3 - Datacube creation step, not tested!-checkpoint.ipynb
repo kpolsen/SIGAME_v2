{
 "cells": [
  {
   "cell_type": "markdown",
   "metadata": {},
   "source": [
    "# Tutorial 3: Datacube creation step, not tested!"
   ]
  },
  {
   "cell_type": "markdown",
   "metadata": {},
   "source": [
    "### Before importing SIGAME\n",
    "As in the previous tutorials, we first make sure to select the relevant task, here `datacubes`, in parameters_z0.txt:\n",
    "```\n",
    "BACKEND TASKS\n",
    "-1 extract_galaxy\n",
    "-1 subgrid\n",
    "-1 interpolate\n",
    "+1 datacubes\n",
    "FRONTEND TASKS\n",
    "-1 regions\n",
    "-1 PCR_analysis\n",
    "```\n",
    "Make any necessary edits to parameters_z0.txt, save, and you're good to go!"
   ]
  },
  {
   "cell_type": "code",
   "execution_count": null,
   "metadata": {},
   "outputs": [],
   "source": [
    "import sigame as si"
   ]
  },
  {
   "cell_type": "code",
   "execution_count": null,
   "metadata": {
    "scrolled": false
   },
   "outputs": [],
   "source": [
    "si.run()"
   ]
  },
  {
   "cell_type": "code",
   "execution_count": null,
   "metadata": {},
   "outputs": [],
   "source": []
  }
 ],
 "metadata": {
  "kernelspec": {
   "display_name": "Python 3",
   "language": "python",
   "name": "python3"
  },
  "language_info": {
   "codemirror_mode": {
    "name": "ipython",
    "version": 3
   },
   "file_extension": ".py",
   "mimetype": "text/x-python",
   "name": "python",
   "nbconvert_exporter": "python",
   "pygments_lexer": "ipython3",
   "version": "3.6.5"
  }
 },
 "nbformat": 4,
 "nbformat_minor": 2
}
