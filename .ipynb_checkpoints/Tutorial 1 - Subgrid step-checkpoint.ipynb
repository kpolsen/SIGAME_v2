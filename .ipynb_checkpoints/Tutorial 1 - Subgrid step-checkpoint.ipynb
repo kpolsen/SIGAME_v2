{
 "cells": [
  {
   "cell_type": "markdown",
   "metadata": {},
   "source": [
    "# Tutorial 1: Subgrid step\n",
    "###  Calculate Pext and FUV, and divide simulation particles into GMCs and diffuse gas clouds"
   ]
  },
  {
   "cell_type": "markdown",
   "metadata": {},
   "source": [
    "### Before importing SIGAME\n",
    "You want to make sure that the correct tasks are selected in parameters_z0.txt, otherwise SIGAME might try to do a whole lot of stuff you didn't intend or nothing at all.\n",
    "For this tutorial, we select the `subgrid` task with a +1, setting everything else to -1:\n",
    "```\n",
    "BACKEND TASKS\n",
    "-1 extract_galaxy\n",
    "+1 subgrid\n",
    "-1 interpolate\n",
    "-1 datacubes\n",
    "FRONTEND TASKS\n",
    "-1 regions\n",
    "-1 PCR_analysis\n",
    "```\n",
    "This step can also be a bit memory-heavy, so be sure to set the number of cores to what you have available, in order to use multiprocessing within the Python code, for instance:\n",
    "```\n",
    "Number of cores available [N_cores]\n",
    "4\n",
    "```\n",
    "Make any necessary edits to parameters_z0.txt, save, and you're good to go!"
   ]
  },
  {
   "cell_type": "code",
   "execution_count": null,
   "metadata": {},
   "outputs": [],
   "source": [
    "import sigame as si"
   ]
  },
  {
   "cell_type": "code",
   "execution_count": null,
   "metadata": {},
   "outputs": [],
   "source": [
    "si.run()"
   ]
  },
  {
   "cell_type": "code",
   "execution_count": null,
   "metadata": {},
   "outputs": [],
   "source": []
  }
 ],
 "metadata": {
  "kernelspec": {
   "display_name": "Python 3",
   "language": "python",
   "name": "python3"
  },
  "language_info": {
   "codemirror_mode": {
    "name": "ipython",
    "version": 3
   },
   "file_extension": ".py",
   "mimetype": "text/x-python",
   "name": "python",
   "nbconvert_exporter": "python",
   "pygments_lexer": "ipython3",
   "version": "3.6.5"
  }
 },
 "nbformat": 4,
 "nbformat_minor": 2
}
