{
 "cells": [
  {
   "cell_type": "markdown",
   "metadata": {},
   "source": [
    "# Tutorial 0: Plot histograms"
   ]
  },
  {
   "cell_type": "code",
   "execution_count": 1,
   "metadata": {},
   "outputs": [
    {
     "name": "stdout",
     "output_type": "stream",
     "text": [
      "\n",
      "   =======================================================\n",
      "   \n",
      "   .oOOOo.  ooOoOOo  .oOOOo.     Oo    Oo      oO o.OOoOoo\n",
      "   o     o     O    .O     o    o  O   O O    o o  O      \n",
      "   O.          o    o          O    o  o  o  O  O  o      \n",
      "    `OOoo.     O    O         oOooOoOo O   Oo   O  ooOO   \n",
      "         `O    o    O   .oOOo o      O O        o  O      \n",
      "          o    O    o.      O O      o o        O  o      \n",
      "   O.    .O    O     O.    oO o      O o        O  O      \n",
      "    `oooO'  ooOOoOo   `OooO'  O.     O O        o ooOooOoO\n",
      "   \n",
      "   =======================================================\n",
      "    SImulator of GAlaxy Millimeter/submillimeter Emission\n",
      "-- A code to simulate the far-IR emission lines of the ISM  --\n",
      "----------- in galaxies from hydrodynamical codes ------------\n",
      "--- for the interpretation and prediction of observations. ---\n",
      "-- Contact: Karen Pardos Olsen, kpolsen (at) asu.edu (2018) --\n",
      "\n",
      "\n",
      "At which redshift? (default: 0, other options: [0,test])\n",
      "Reading parameter file: [parameters_z0.txt] ... \n",
      "\n",
      "will look for code in /home/karen/code/astro/sigame_release/sigame/\n",
      "will look for cloudy data in /home/karen/code/astro/sigame_release/sigame/temp/z0_data_files/\n",
      "\n",
      "\n",
      "                 Parameters chosen                \n",
      "+--------------------+----------+---------------+--------------------------------------------------+\n",
      "|     Parameter      |  Value   |  Name in code |                   Explanation                    |\n",
      "+--------------------+----------+---------------+--------------------------------------------------+\n",
      "|   Repr. redshift   |         0|      zred     |         Redshift of simulation snapshot          |\n",
      "|     # galaxies     |         1|      nGal     |      Number of galaxies in redshift sample       |\n",
      "| Dense cloudy grid  |     _abun|   ext_DENSE   |       Extension of desired GMC model grid        |\n",
      "|Diffuse cloudy grid |     _abun|  ext_DIFFUSE  |       Extension of desired HIM model grid        |\n",
      "|   Fraction of h    |       0.5|     frac_h    |        GMCs are distributed < frac_h * h         |\n",
      "+--------------------+----------+---------------+--------------------------------------------------+\n",
      "\n",
      "This is what sigame.run() is set up to do (change in parameter file):\n",
      "- Subgrid the galaxy, creating GMCs and diffuse gas clouds\n",
      "- Interpolate in cloud model grid for each gas clouds\n",
      "- Create datacubes for ISM phases GMC, DNG and DIG\n",
      "\n",
      "--------------------------------------------------------------\n",
      "\n",
      "Ready to continue!\n",
      "\n"
     ]
    }
   ],
   "source": [
    "import sigame as si"
   ]
  },
  {
   "cell_type": "code",
   "execution_count": 2,
   "metadata": {},
   "outputs": [
    {
     "name": "stdout",
     "output_type": "stream",
     "text": [
      "For which data type? [default: sim] \n",
      " gmc for Giant Molecular Clouds\n",
      " sim for raw simulation data (gas/stars/dark matter)\n",
      " dng for Diffuse Neutral Gas\n",
      " dig for Diffuse Ionized Gas...? \n",
      "\n",
      "Gas or star or dark matter (dm)? [default: gas] ... \n",
      "\n",
      "Over what quantity? Options:\n",
      "[default: m]... \n",
      "\n",
      "Mass or number-weighted (m vs n)? [default: n] ... \n",
      "\n",
      "Logarithmix x-axis? [default: y] ... \n",
      "\n",
      "Logarithmix y-axis? [default: y] ... \n",
      "\n",
      "creating new figure\n",
      "Save figure? [default: n] ... \n",
      "plot another quantity? [default: n] ... \n"
     ]
    },
    {
     "data": {
      "image/png": "[encoded data removed]",
      "text/plain": [
       "<Figure size 576x432 with 1 Axes>"
      ]
     },
     "metadata": {},
     "output_type": "display_data"
    }
   ],
   "source": [
    "si.plot.histos()"
   ]
  },
  {
   "cell_type": "code",
   "execution_count": null,
   "metadata": {},
   "outputs": [],
   "source": []
  }
 ],
 "metadata": {
  "kernelspec": {
   "display_name": "Python 3",
   "language": "python",
   "name": "python3"
  },
  "language_info": {
   "codemirror_mode": {
    "name": "ipython",
    "version": 3
   },
   "file_extension": ".py",
   "mimetype": "text/x-python",
   "name": "python",
   "nbconvert_exporter": "python",
   "pygments_lexer": "ipython3",
   "version": "3.6.5"
  }
 },
 "nbformat": 4,
 "nbformat_minor": 2
}
