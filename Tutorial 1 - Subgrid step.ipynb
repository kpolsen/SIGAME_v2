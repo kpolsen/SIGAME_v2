{
 "cells": [
  {
   "cell_type": "markdown",
   "metadata": {},
   "source": [
    "# Tutorial 1: Subgrid step\n",
    "###  Calculate Pext and FUV, and divide simulation particles into GMCs and diffuse gas clouds"
   ]
  },
  {
   "cell_type": "markdown",
   "metadata": {},
   "source": [
    "### Before importing SIGAME\n",
    "You want to make sure that the correct tasks are selected in parameters_z0.txt, otherwise SIGAME might try to do a whole lot of stuff you didn't intend or nothing at all.\n",
    "For this tutorial, we select the `subgrid` task with a +1, setting everything else to -1:\n",
    "```\n",
    "BACKEND TASKS\n",
    "-1 extract_galaxy\n",
    "+1 subgrid\n",
    "-1 interpolate\n",
    "-1 datacubes\n",
    "FRONTEND TASKS\n",
    "-1 regions\n",
    "-1 PCR_analysis\n",
    "```\n",
    "This step can also be a bit memory-heavy, so be sure to set the number of cores to what you have available, in order to use multiprocessing within the Python code, for instance:\n",
    "```\n",
    "Number of cores available [N_cores]\n",
    "4\n",
    "```\n",
    "Make any necessary edits to parameters_z0.txt, save, and you're good to go!"
   ]
  },
  {
   "cell_type": "code",
   "execution_count": 1,
   "metadata": {},
   "outputs": [
    {
     "name": "stdout",
     "output_type": "stream",
     "text": [
      "\n",
      "   =======================================================\n",
      "   \n",
      "   .oOOOo.  ooOoOOo  .oOOOo.     Oo    Oo      oO o.OOoOoo\n",
      "   o     o     O    .O     o    o  O   O O    o o  O      \n",
      "   O.          o    o          O    o  o  o  O  O  o      \n",
      "    `OOoo.     O    O         oOooOoOo O   Oo   O  ooOO   \n",
      "         `O    o    O   .oOOo o      O O        o  O      \n",
      "          o    O    o.      O O      o o        O  o      \n",
      "   O.    .O    O     O.    oO o      O o        O  O      \n",
      "    `oooO'  ooOOoOo   `OooO'  O.     O O        o ooOooOoO\n",
      "   \n",
      "   =======================================================\n",
      "    SImulator of GAlaxy Millimeter/submillimeter Emission\n",
      "-- A code to simulate the far-IR emission lines of the ISM  --\n",
      "----------- in galaxies from hydrodynamical codes ------------\n",
      "--- for the interpretation and prediction of observations. ---\n",
      "-- Contact: Karen Pardos Olsen, kpolsen (at) asu.edu (2018) --\n",
      "\n",
      "\n",
      "At which redshift? (default: 0)0\n",
      "Reading parameter file: [parameters_z0.txt] ... \n",
      "\n",
      "will look for code in /home/karen/code/astro/sigame_release/sigame/\n",
      "will look for cloudy data in /home/karen/code/astro/sigame_release/sigame/temp/z0_data_files/\n",
      "\n",
      "\n",
      "                 Parameters chosen                \n",
      "+--------------------+----------+---------------+--------------------------------------------------+\n",
      "|     Parameter      |  Value   |  Name in code |                   Explanation                    |\n",
      "+--------------------+----------+---------------+--------------------------------------------------+\n",
      "|   Repr. redshift   |         0|      zred     |         Redshift of simulation snapshot          |\n",
      "|     # galaxies     |         1|      nGal     |      Number of galaxies in redshift sample       |\n",
      "| Dense cloudy grid  |     _abun|   ext_DENSE   |       Extension of desired GMC model grid        |\n",
      "|Diffuse cloudy grid |     _abun|  ext_DIFFUSE  |       Extension of desired HIM model grid        |\n",
      "|   Fraction of h    |       0.5|     frac_h    |        GMCs are distributed < frac_h * h         |\n",
      "+--------------------+----------+---------------+--------------------------------------------------+\n",
      "\n",
      "This is what sigame.run() is set up to do (change in parameter file):\n",
      "- Subgrid the galaxy, creating GMCs and diffuse gas clouds\n",
      "\n",
      "--------------------------------------------------------------\n",
      "\n",
      "Ready to continue!\n",
      "\n"
     ]
    }
   ],
   "source": [
    "import sigame as si"
   ]
  },
  {
   "cell_type": "code",
   "execution_count": 6,
   "metadata": {},
   "outputs": [
    {
     "name": "stdout",
     "output_type": "stream",
     "text": [
      "\n",
      " Number of galaxies in selection: 1 \n",
      "** This is the main controller running SIGAME for the given galaxy sample **\n",
      "\n",
      "--- Subgridding ---\n",
      "Overwrite is ON\n",
      "\n",
      "CREATING DIFFUSE GAS CLOUDS FOR THIS GALAXY\n",
      "Loaded file at sigame/temp/z0_data_files/particle_data/sim_data/z0.00_h401_s135_G2_sim.gas\n",
      "Total gas mass in galaxy: 9.09e+09 Msun\n",
      "Diffuse gas mass in galaxy: 7.93e+09 Msun\n",
      "in percent: 87.24 %\n",
      "saving data h5store sigame/temp/z0_data_files/particle_data/ISM_data/z0.00_h401_s135_G2_dif.h5\n",
      "\n",
      "--------------------------------------------------------------\n",
      "\n"
     ]
    }
   ],
   "source": [
    "si.run()"
   ]
  },
  {
   "cell_type": "code",
   "execution_count": null,
   "metadata": {},
   "outputs": [],
   "source": []
  }
 ],
 "metadata": {
  "kernelspec": {
   "display_name": "Python 3",
   "language": "python",
   "name": "python3"
  },
  "language_info": {
   "codemirror_mode": {
    "name": "ipython",
    "version": 3
   },
   "file_extension": ".py",
   "mimetype": "text/x-python",
   "name": "python",
   "nbconvert_exporter": "python",
   "pygments_lexer": "ipython3",
   "version": "3.6.5"
  }
 },
 "nbformat": 4,
 "nbformat_minor": 2
}
