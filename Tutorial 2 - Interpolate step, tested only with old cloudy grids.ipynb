{
 "cells": [
  {
   "cell_type": "markdown",
   "metadata": {},
   "source": [
    "# Tutorial 2: Interpolate step"
   ]
  },
  {
   "cell_type": "markdown",
   "metadata": {},
   "source": [
    "### Before importing SIGAME\n",
    "As in Tutorial 1, we first make sure to select the relevant task, here `interpolate`, in parameters_z0.txt:\n",
    "```\n",
    "BACKEND TASKS\n",
    "-1 extract_galaxy\n",
    "-1 subgrid\n",
    "+1 interpolate\n",
    "-1 datacubes\n",
    "FRONTEND TASKS\n",
    "-1 regions\n",
    "-1 PCR_analysis\n",
    "```\n",
    "Make any necessary edits to parameters_z0.txt, save, and you're good to go!"
   ]
  },
  {
   "cell_type": "code",
   "execution_count": 1,
   "metadata": {},
   "outputs": [
    {
     "name": "stdout",
     "output_type": "stream",
     "text": [
      "\n",
      "   =======================================================\n",
      "   \n",
      "   .oOOOo.  ooOoOOo  .oOOOo.     Oo    Oo      oO o.OOoOoo\n",
      "   o     o     O    .O     o    o  O   O O    o o  O      \n",
      "   O.          o    o          O    o  o  o  O  O  o      \n",
      "    `OOoo.     O    O         oOooOoOo O   Oo   O  ooOO   \n",
      "         `O    o    O   .oOOo o      O O        o  O      \n",
      "          o    O    o.      O O      o o        O  o      \n",
      "   O.    .O    O     O.    oO o      O o        O  O      \n",
      "    `oooO'  ooOOoOo   `OooO'  O.     O O        o ooOooOoO\n",
      "   \n",
      "   =======================================================\n",
      "    SImulator of GAlaxy Millimeter/submillimeter Emission\n",
      "-- A code to simulate the far-IR emission lines of the ISM  --\n",
      "----------- in galaxies from hydrodynamical codes ------------\n",
      "--- for the interpretation and prediction of observations. ---\n",
      "-- Contact: Karen Pardos Olsen, kpolsen (at) asu.edu (2018) --\n",
      "\n",
      "\n",
      "At which redshift? (default: 0)0\n",
      "Reading parameter file: [parameters_z0.txt] ... \n",
      "\n",
      "will look for code in /home/karen/code/astro/sigame_release/sigame/\n",
      "will look for cloudy data in /home/karen/code/astro/sigame_release/sigame/temp/z0_data_files/\n",
      "\n",
      "\n",
      "                 Parameters chosen                \n",
      "+--------------------+----------+---------------+--------------------------------------------------+\n",
      "|     Parameter      |  Value   |  Name in code |                   Explanation                    |\n",
      "+--------------------+----------+---------------+--------------------------------------------------+\n",
      "|   Repr. redshift   |         0|      zred     |         Redshift of simulation snapshot          |\n",
      "|     # galaxies     |         1|      nGal     |      Number of galaxies in redshift sample       |\n",
      "| Dense cloudy grid  |     _abun|   ext_DENSE   |       Extension of desired GMC model grid        |\n",
      "|Diffuse cloudy grid |     _abun|  ext_DIFFUSE  |       Extension of desired HIM model grid        |\n",
      "|   Fraction of h    |       0.5|     frac_h    |        GMCs are distributed < frac_h * h         |\n",
      "+--------------------+----------+---------------+--------------------------------------------------+\n",
      "\n",
      "This is what sigame.run() is set up to do (change in parameter file):\n",
      "- Interpolate in cloud model grid for each gas clouds\n",
      "\n",
      "--------------------------------------------------------------\n",
      "\n",
      "Ready to continue!\n",
      "\n"
     ]
    }
   ],
   "source": [
    "import sigame as si"
   ]
  },
  {
   "cell_type": "code",
   "execution_count": 28,
   "metadata": {
    "scrolled": false
   },
   "outputs": [
    {
     "name": "stdout",
     "output_type": "stream",
     "text": [
      "\n",
      " Number of galaxies in selection: 1 \n",
      "** This is the main controller running SIGAME for the given galaxy sample **\n",
      "\n",
      "--- Interpolating in cloud models ---\n",
      "Overwrite is ON\n",
      "\n",
      "ADDING EMISSION INFO TO GMCs IN THIS GALAXY\n",
      "Loaded file at sigame/temp/z0_data_files/particle_data/ISM_data/z0.00_h401_s135_G2_GMC.h5\n"
     ]
    },
    {
     "name": "stderr",
     "output_type": "stream",
     "text": [
      "/home/karen/code/astro/sigame_release/sigame/aux.py:465: RuntimeWarning: divide by zero encountered in log10\n",
      "  GMCgas1             =   np.log10(GMCgas[int_parameters])\n"
     ]
    },
    {
     "name": "stdout",
     "output_type": "stream",
     "text": [
      "Sum of L_[CII] using closest model number: 9634450.191944033 Lsun\n",
      "Sum of L_[CII] using interpolation: 14957316.992020052 Lsun\n",
      "nan % of Hydrogen is molecular Hydrogen (excluding H in other H-bond molecules)\n",
      "nan % of Hydrogen is atomic Hydrogen (excluding H in other H-bond molecules)\n",
      "nan % of Hydrogen is ionized Hydrogen (excluding H in other H-bond molecules)\n",
      "80.86 % of Hydrogen is molecular hydrogen (excluding H in other H-bond molecules)\n",
      "19.01 % of Hydrogen is atomic hydrogen (excluding H in other H-bond molecules)\n",
      "0.11 % of Hydrogen is ionized hydrogen (excluding H in other H-bond molecules)\n",
      "Line emission: (Some might be nan if not enough line emission was found for this phase)\n",
      "Total L_CII: 1.50e+07 L_sun\n",
      "Total L_OI: 5.61e+07 L_sun\n",
      "Total L_OIII: nan L_sun\n",
      "Total L_NII_122: 9.22e+05 L_sun\n",
      "Total L_NII_205: 1.79e+05 L_sun\n",
      "Total L_CI_609: 3.54e+05 L_sun\n",
      "Total L_CI_369: 9.14e+05 L_sun\n",
      "Total L_CO32: 1.65e+05 L_sun\n",
      "Total L_CO21: 5.21e+04 L_sun\n",
      "Total L_CO10: 5.26e+03 L_sun\n",
      "saving data h5store sigame/temp/z0_data_files/particle_data/ISM_data/z0.00_h401_s135_G2_GMC.h5\n",
      "\n",
      "ADDING EMISSION INFO TO DIFFUSE GAS IN THIS GALAXY\n",
      "Loaded file at sigame/temp/z0_data_files/particle_data/ISM_data/z0.00_h401_s135_G2_dif.h5\n",
      "Sum of L_[CII] using closest model number: 2408189.2487432812 Lsun\n",
      "Sum of L_[CII] using interpolation: 6581805.7436351 Lsun\n",
      "Total diffuse gas mass: 7926594902.668092 Msun\n",
      "Total diffuse neutral gas (DNG) mass: 484239925.1976828 or 6.109053523533655 %\n",
      "Total diffuse ionized gas (DIG) mass: 7442354977.4703865 or 93.89094647646634 %\n",
      "Check sum: 99.99999999999977 %\n",
      "Line emission: (Some might be nan if not enough line emission was found for this phase)\n",
      "Total L_CII: 6.58e+06 L_sun\n",
      "Total L_OI: 6.43e+05 L_sun\n",
      "Total L_OIII: 7.44e+06 L_sun\n",
      "Total L_NII_122: 6.64e+05 L_sun\n",
      "Total L_NII_205: 9.48e+05 L_sun\n",
      "Total L_CI_609: 7.75e+03 L_sun\n",
      "Total L_CI_369: 1.21e+04 L_sun\n",
      "Total L_CO32: nan L_sun\n",
      "Total L_CO21: nan L_sun\n",
      "Total L_CO10: nan L_sun\n",
      "In DNG:\n",
      "0.01 % of hydrogen is molecular\n",
      "93.21 % of hydrogen is atomic\n",
      "6.79 % of hydrogen is ionized\n",
      "In DIG:\n",
      "0.00 % of hydrogen is molecular\n",
      "0.57 % of hydrogen is atomic\n",
      "99.43 % of hydrogen is ionized\n",
      "saving data h5store sigame/temp/z0_data_files/particle_data/ISM_data/z0.00_h401_s135_G2_dif.h5\n",
      "\n",
      "--------------------------------------------------------------\n",
      "\n"
     ]
    }
   ],
   "source": [
    "si.run()"
   ]
  },
  {
   "cell_type": "code",
   "execution_count": null,
   "metadata": {},
   "outputs": [],
   "source": []
  }
 ],
 "metadata": {
  "kernelspec": {
   "display_name": "Python 3",
   "language": "python",
   "name": "python3"
  },
  "language_info": {
   "codemirror_mode": {
    "name": "ipython",
    "version": 3
   },
   "file_extension": ".py",
   "mimetype": "text/x-python",
   "name": "python",
   "nbconvert_exporter": "python",
   "pygments_lexer": "ipython3",
   "version": "3.6.5"
  }
 },
 "nbformat": 4,
 "nbformat_minor": 2
}
