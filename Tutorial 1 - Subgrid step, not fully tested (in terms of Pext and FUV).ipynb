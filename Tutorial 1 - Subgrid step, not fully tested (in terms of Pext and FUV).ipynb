{
 "cells": [
  {
   "cell_type": "markdown",
   "metadata": {},
   "source": [
    "# Tutorial 1: Subgrid step"
   ]
  },
  {
   "cell_type": "markdown",
   "metadata": {},
   "source": [
    "### Before importing SIGAME\n",
    "You want to make sure that the correct tasks are selected in parameters_z0.txt, otherwise SIGAME might try to do a whole lot of stuff you didn't intend or nothing at all.\n",
    "For this tutorial, we select the `subgrid` task with a +1, setting everything else to -1:\n",
    "```\n",
    "BACKEND TASKS\n",
    "-1 extract_galaxy\n",
    "+1 subgrid\n",
    "-1 interpolate\n",
    "-1 datacubes\n",
    "FRONTEND TASKS\n",
    "-1 regions\n",
    "-1 PCR_analysis\n",
    "```\n",
    "This step can also be a bit memory-heavy, so be sure to set the number of cores to what you have available, in order to use multiprocessing within the Python code, for instance:\n",
    "```\n",
    "Number of cores available [N_cores]\n",
    "4\n",
    "```\n",
    "Make any necessary edits to parameters_z0.txt, save, and you're good to go!"
   ]
  },
  {
   "cell_type": "code",
   "execution_count": 1,
   "metadata": {},
   "outputs": [
    {
     "name": "stdout",
     "output_type": "stream",
     "text": [
      "\n",
      "   =======================================================\n",
      "   \n",
      "   .oOOOo.  ooOoOOo  .oOOOo.     Oo    Oo      oO o.OOoOoo\n",
      "   o     o     O    .O     o    o  O   O O    o o  O      \n",
      "   O.          o    o          O    o  o  o  O  O  o      \n",
      "    `OOoo.     O    O         oOooOoOo O   Oo   O  ooOO   \n",
      "         `O    o    O   .oOOo o      O O        o  O      \n",
      "          o    O    o.      O O      o o        O  o      \n",
      "   O.    .O    O     O.    oO o      O o        O  O      \n",
      "    `oooO'  ooOOoOo   `OooO'  O.     O O        o ooOooOoO\n",
      "   \n",
      "   =======================================================\n",
      "    SImulator of GAlaxy Millimeter/submillimeter Emission\n",
      "-- A code to simulate the far-IR emission lines of the ISM  --\n",
      "----------- in galaxies from hydrodynamical codes ------------\n",
      "--- for the interpretation and prediction of observations. ---\n",
      "-- Contact: Karen Pardos Olsen, kpolsen (at) asu.edu (2018) --\n",
      "\n",
      "\n",
      "At which redshift? (default: 0)0\n",
      "Reading parameter file: [parameters_z0.txt] ... \n",
      "\n",
      "will look for code in /home/karen/code/astro/sigame_release/sigame/\n",
      "will look for cloudy data in /home/karen/code/astro/sigame_release/sigame/temp/z0_data_files/\n",
      "\n",
      "\n",
      "                 Parameters chosen                \n",
      "+--------------------+----------+---------------+--------------------------------------------------+\n",
      "|     Parameter      |  Value   |  Name in code |                   Explanation                    |\n",
      "+--------------------+----------+---------------+--------------------------------------------------+\n",
      "|   Repr. redshift   |         0|      zred     |         Redshift of simulation snapshot          |\n",
      "|     # galaxies     |         1|      nGal     |      Number of galaxies in redshift sample       |\n",
      "| Dense cloudy grid  |     _abun|   ext_DENSE   |       Extension of desired GMC model grid        |\n",
      "|Diffuse cloudy grid |     _abun|  ext_DIFFUSE  |       Extension of desired HIM model grid        |\n",
      "|   Fraction of h    |       0.5|     frac_h    |        GMCs are distributed < frac_h * h         |\n",
      "+--------------------+----------+---------------+--------------------------------------------------+\n",
      "\n",
      "This is what sigame.run() is set up to do (change in parameter file):\n",
      "- Subgrid the galaxy, creating GMCs and diffuse gas clouds\n",
      "\n",
      "--------------------------------------------------------------\n",
      "\n",
      "Ready to continue!\n",
      "\n"
     ]
    }
   ],
   "source": [
    "import sigame as si"
   ]
  },
  {
   "cell_type": "code",
   "execution_count": 3,
   "metadata": {
    "scrolled": false
   },
   "outputs": [
    {
     "name": "stdout",
     "output_type": "stream",
     "text": [
      "\n",
      " Number of galaxies in selection: 1 \n",
      "** This is the main controller running SIGAME for the given galaxy sample **\n",
      "\n",
      "--- Subgridding ---\n",
      "Overwrite is ON\n",
      "\n",
      "ADDING FUV RADIATION FIELD TO GALAXY\n",
      "             Age         Z         L_FUV\n",
      "0       3.162278  0.007463  2.530408e+40\n",
      "1       3.162278  0.149254  2.551736e+40\n",
      "2       3.162278  0.597015  2.218174e+40\n",
      "3       3.162278  1.044776  2.271316e+40\n",
      "4       3.162278  2.985075  2.308697e+40\n",
      "5      10.000000  0.007463  4.530857e+39\n",
      "6      10.000000  0.149254  4.450728e+39\n",
      "7      10.000000  0.597015  3.041468e+39\n",
      "8      10.000000  1.044776  2.973905e+39\n",
      "9      10.000000  2.985075  2.905989e+39\n",
      "10     31.622777  0.007463  8.984508e+38\n",
      "11     31.622777  0.149254  8.810005e+38\n",
      "12     31.622777  0.597015  5.697350e+38\n",
      "13     31.622777  1.044776  5.524839e+38\n",
      "14     31.622777  2.985075  5.352506e+38\n",
      "15    100.000000  0.007463  1.759335e+38\n",
      "16    100.000000  0.149254  1.708951e+38\n",
      "17    100.000000  0.597015  9.552354e+37\n",
      "18    100.000000  1.044776  9.076611e+37\n",
      "19    100.000000  2.985075  8.640244e+37\n",
      "20    316.227766  0.007463  2.903305e+37\n",
      "21    316.227766  0.149254  2.769266e+37\n",
      "22    316.227766  0.597015  1.098513e+37\n",
      "23    316.227766  1.044776  1.019696e+37\n",
      "24    316.227766  2.985075  9.400404e+36\n",
      "25   1000.000000  0.007463  2.718744e+36\n",
      "26   1000.000000  0.149254  2.533736e+36\n",
      "27   1000.000000  0.597015  2.904262e+35\n",
      "28   1000.000000  1.044776  2.184500e+35\n",
      "29   1000.000000  2.985075  1.622682e+35\n",
      "30   3162.277660  0.007463  1.619114e+35\n",
      "31   3162.277660  0.149254  1.267942e+35\n",
      "32   3162.277660  0.597015  1.414674e+34\n",
      "33   3162.277660  1.044776  5.152432e+33\n",
      "34   3162.277660  2.985075  2.172832e+33\n",
      "35  10000.000000  0.007463  1.011333e+34\n",
      "36  10000.000000  0.149254  5.020554e+33\n",
      "37  10000.000000  0.597015  2.831753e+32\n",
      "38  10000.000000  1.044776  1.022501e+32\n",
      "39  10000.000000  2.985075  5.814936e+31\n"
     ]
    },
    {
     "ename": "NameError",
     "evalue": "name 'sgsaeg' is not defined",
     "output_type": "error",
     "traceback": [
      "\u001b[0;31m----------------------------------------------------\u001b[0m",
      "\u001b[0;31mNameError\u001b[0m          Traceback (most recent call last)",
      "\u001b[0;32m<ipython-input-3-01da91e8074a>\u001b[0m in \u001b[0;36m<module>\u001b[0;34m()\u001b[0m\n\u001b[0;32m----> 1\u001b[0;31m \u001b[0msi\u001b[0m\u001b[0;34m.\u001b[0m\u001b[0mrun\u001b[0m\u001b[0;34m(\u001b[0m\u001b[0;34m)\u001b[0m\u001b[0;34m\u001b[0m\u001b[0m\n\u001b[0m",
      "\u001b[0;32m~/code/astro/sigame_release/sigame/main.py\u001b[0m in \u001b[0;36mrun\u001b[0;34m()\u001b[0m\n\u001b[1;32m     31\u001b[0m     \u001b[0mprint\u001b[0m\u001b[0;34m(\u001b[0m\u001b[0;34m'** This is the main controller running SIGAME for the given galaxy sample **'\u001b[0m\u001b[0;34m)\u001b[0m\u001b[0;34m\u001b[0m\u001b[0m\n\u001b[1;32m     32\u001b[0m \u001b[0;34m\u001b[0m\u001b[0m\n\u001b[0;32m---> 33\u001b[0;31m     \u001b[0;32mif\u001b[0m \u001b[0mdo_subgrid\u001b[0m\u001b[0;34m:\u001b[0m \u001b[0mbackend\u001b[0m\u001b[0;34m.\u001b[0m\u001b[0msubgrid\u001b[0m\u001b[0;34m(\u001b[0m\u001b[0mGR\u001b[0m\u001b[0;34m)\u001b[0m\u001b[0;34m\u001b[0m\u001b[0m\n\u001b[0m\u001b[1;32m     34\u001b[0m \u001b[0;34m\u001b[0m\u001b[0m\n\u001b[1;32m     35\u001b[0m     \u001b[0;32mif\u001b[0m \u001b[0mdo_interpolate\u001b[0m\u001b[0;34m:\u001b[0m \u001b[0mbackend\u001b[0m\u001b[0;34m.\u001b[0m\u001b[0minterpolate\u001b[0m\u001b[0;34m(\u001b[0m\u001b[0mGR\u001b[0m\u001b[0;34m)\u001b[0m\u001b[0;34m\u001b[0m\u001b[0m\n",
      "\u001b[0;32m~/code/astro/sigame_release/sigame/backend.py\u001b[0m in \u001b[0;36msubgrid\u001b[0;34m(GR)\u001b[0m\n\u001b[1;32m     26\u001b[0m         \u001b[0msub_obj\u001b[0m                 \u001b[0;34m=\u001b[0m   \u001b[0mgal\u001b[0m\u001b[0;34m.\u001b[0m\u001b[0msubgrid_galaxy\u001b[0m\u001b[0;34m(\u001b[0m\u001b[0mgal_index\u001b[0m\u001b[0;34m=\u001b[0m\u001b[0mgal_index\u001b[0m\u001b[0;34m)\u001b[0m\u001b[0;34m\u001b[0m\u001b[0m\n\u001b[1;32m     27\u001b[0m         \u001b[0msub_obj\u001b[0m\u001b[0;34m.\u001b[0m\u001b[0msetup_tasks\u001b[0m\u001b[0;34m(\u001b[0m\u001b[0;34m)\u001b[0m\u001b[0;34m\u001b[0m\u001b[0m\n\u001b[0;32m---> 28\u001b[0;31m         \u001b[0;32mif\u001b[0m \u001b[0msub_obj\u001b[0m\u001b[0;34m.\u001b[0m\u001b[0mdo_FUV\u001b[0m\u001b[0;34m:\u001b[0m              \u001b[0msub_obj\u001b[0m\u001b[0;34m.\u001b[0m\u001b[0madd_FUV\u001b[0m\u001b[0;34m(\u001b[0m\u001b[0;34m)\u001b[0m\u001b[0;34m\u001b[0m\u001b[0m\n\u001b[0m\u001b[1;32m     29\u001b[0m         \u001b[0;32mif\u001b[0m \u001b[0msub_obj\u001b[0m\u001b[0;34m.\u001b[0m\u001b[0mdo_P_ext\u001b[0m\u001b[0;34m:\u001b[0m            \u001b[0msub_obj\u001b[0m\u001b[0;34m.\u001b[0m\u001b[0madd_P_ext\u001b[0m\u001b[0;34m(\u001b[0m\u001b[0;34m)\u001b[0m\u001b[0;34m\u001b[0m\u001b[0m\n\u001b[1;32m     30\u001b[0m         \u001b[0;32mif\u001b[0m \u001b[0msub_obj\u001b[0m\u001b[0;34m.\u001b[0m\u001b[0mdo_GMCs\u001b[0m\u001b[0;34m:\u001b[0m             \u001b[0msub_obj\u001b[0m\u001b[0;34m.\u001b[0m\u001b[0madd_GMCs\u001b[0m\u001b[0;34m(\u001b[0m\u001b[0;34m)\u001b[0m\u001b[0;34m\u001b[0m\u001b[0m\n",
      "\u001b[0;32m~/code/astro/sigame_release/sigame/galaxy.py\u001b[0m in \u001b[0;36madd_FUV\u001b[0;34m(self)\u001b[0m\n\u001b[1;32m   1155\u001b[0m \u001b[0;34m\u001b[0m\u001b[0m\n\u001b[1;32m   1156\u001b[0m         \u001b[0;31m# Get FUV grid results from starburst99\u001b[0m\u001b[0;34m\u001b[0m\u001b[0;34m\u001b[0m\u001b[0m\n\u001b[0;32m-> 1157\u001b[0;31m         \u001b[0mZs\u001b[0m\u001b[0;34m,\u001b[0m\u001b[0mages\u001b[0m\u001b[0;34m,\u001b[0m\u001b[0mL_FUV_grid\u001b[0m  \u001b[0;34m=\u001b[0m   \u001b[0maux\u001b[0m\u001b[0;34m.\u001b[0m\u001b[0mget_FUV_grid_results\u001b[0m\u001b[0;34m(\u001b[0m\u001b[0mz1\u001b[0m\u001b[0;34m)\u001b[0m\u001b[0;34m\u001b[0m\u001b[0m\n\u001b[0m\u001b[1;32m   1158\u001b[0m \u001b[0;34m\u001b[0m\u001b[0m\n\u001b[1;32m   1159\u001b[0m         \u001b[0;31m# Calculate FUV luminosity of each stellar particle [ergs/s]\u001b[0m\u001b[0;34m\u001b[0m\u001b[0;34m\u001b[0m\u001b[0m\n",
      "\u001b[0;32m~/code/astro/sigame_release/sigame/aux.py\u001b[0m in \u001b[0;36mget_FUV_grid_results\u001b[0;34m(z1)\u001b[0m\n\u001b[1;32m    407\u001b[0m     \u001b[0mFUVgrid\u001b[0m                 \u001b[0;34m=\u001b[0m   \u001b[0mpd\u001b[0m\u001b[0;34m.\u001b[0m\u001b[0mread_pickle\u001b[0m\u001b[0;34m(\u001b[0m\u001b[0md_t\u001b[0m\u001b[0;34m+\u001b[0m\u001b[0;34m'FUV/FUV_'\u001b[0m\u001b[0;34m+\u001b[0m\u001b[0mz1\u001b[0m\u001b[0;34m+\u001b[0m\u001b[0;34m'_noneb'\u001b[0m\u001b[0;34m)\u001b[0m\u001b[0;34m\u001b[0m\u001b[0m\n\u001b[1;32m    408\u001b[0m     \u001b[0mprint\u001b[0m\u001b[0;34m(\u001b[0m\u001b[0mFUVgrid\u001b[0m\u001b[0;34m)\u001b[0m\u001b[0;34m\u001b[0m\u001b[0m\n\u001b[0;32m--> 409\u001b[0;31m     \u001b[0ms\u001b[0m \u001b[0;34m=\u001b[0m \u001b[0msgsaeg\u001b[0m\u001b[0;34m\u001b[0m\u001b[0m\n\u001b[0m\u001b[1;32m    410\u001b[0m     \u001b[0;31m# Read corresponding [age,Z,L_FUV] values\u001b[0m\u001b[0;34m\u001b[0m\u001b[0;34m\u001b[0m\u001b[0m\n\u001b[1;32m    411\u001b[0m     \u001b[0;31m# FUV                     =   pd.read_pickle(d_t+'FUV/FUV_'+z1+'_noneb')\u001b[0m\u001b[0;34m\u001b[0m\u001b[0;34m\u001b[0m\u001b[0m\n",
      "\u001b[0;31mNameError\u001b[0m: name 'sgsaeg' is not defined"
     ]
    }
   ],
   "source": [
    "si.run()"
   ]
  },
  {
   "cell_type": "code",
   "execution_count": null,
   "metadata": {},
   "outputs": [],
   "source": []
  }
 ],
 "metadata": {
  "kernelspec": {
   "display_name": "Python 3",
   "language": "python",
   "name": "python3"
  },
  "language_info": {
   "codemirror_mode": {
    "name": "ipython",
    "version": 3
   },
   "file_extension": ".py",
   "mimetype": "text/x-python",
   "name": "python",
   "nbconvert_exporter": "python",
   "pygments_lexer": "ipython3",
   "version": "3.6.5"
  }
 },
 "nbformat": 4,
 "nbformat_minor": 2
}
